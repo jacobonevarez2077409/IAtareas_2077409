{
  "nbformat": 4,
  "nbformat_minor": 0,
  "metadata": {
    "colab": {
      "provenance": [],
      "authorship_tag": "ABX9TyMSMDwVLkjTiYEAMto9/Hrm",
      "include_colab_link": true
    },
    "kernelspec": {
      "name": "python3",
      "display_name": "Python 3"
    },
    "language_info": {
      "name": "python"
    }
  },
  "cells": [
    {
      "cell_type": "markdown",
      "metadata": {
        "id": "view-in-github",
        "colab_type": "text"
      },
      "source": [
        "<a href=\"https://colab.research.google.com/github/jacobonevarez2077409/IAtareas_2077409/blob/main/Untitled0.ipynb\" target=\"_parent\"><img src=\"https://colab.research.google.com/assets/colab-badge.svg\" alt=\"Open In Colab\"/></a>"
      ]
    },
    {
      "cell_type": "markdown",
      "source": [
        "# **Ejercicios en Python**\n",
        "## **A2: Ejercicios en Python.**\n",
        "\n",
        "\n",
        "\n",
        "NOMBRE: JACOBO FABIAN NEVAREZ HERNANDEZ\n",
        "MATRÍCULA: 2077409\n",
        "\n",
        "Objetivo:\n",
        "Analizar conceptos generales relacionados al campo de la Inteligencia Artificial, incluyendo antecedentes y bases del área.\n"
      ],
      "metadata": {
        "id": "ftVjqfrxE98P"
      }
    },
    {
      "cell_type": "markdown",
      "source": [
        "1.\tEscribe un programa que solicite al usuario un número y que indique si es par o impar."
      ],
      "metadata": {
        "id": "AmNytBb0FpVd"
      }
    },
    {
      "cell_type": "code",
      "execution_count": 14,
      "metadata": {
        "colab": {
          "base_uri": "https://localhost:8080/"
        },
        "id": "kUydhdcHy067",
        "outputId": "be9b9bae-8a69-4f7d-da97-45cda1634be5"
      },
      "outputs": [
        {
          "output_type": "stream",
          "name": "stdout",
          "text": [
            "Indique un número: 7\n",
            "7 es impar\n"
          ]
        }
      ],
      "source": [
        "\n",
        "numero = 0\n",
        "numero = int(input(\"Indique un número: \"))\n",
        "\n",
        "if (numero % 2) == 0:\n",
        "    print(numero, \"es par\")\n",
        "else:\n",
        "    print(numero, \"es impar\")\n",
        "\n",
        "\n"
      ]
    },
    {
      "cell_type": "markdown",
      "source": [
        "2.\tEscribe un programa que tome una lista de números ingresados por el usuario y muestre la lista en orden inverso."
      ],
      "metadata": {
        "id": "ErnxSa3uFsMX"
      }
    },
    {
      "cell_type": "code",
      "source": [
        "lista1= []\n",
        "for i in range(0,7):\n",
        "  n=input(\"ingresa un número: \")\n",
        "  lista1.append(n)\n",
        "lista2=lista1[:]\n",
        "lista2.reverse()\n",
        "print(\"los numeros ingresados son: \",lista1)\n",
        "print(\"E invertidos son: \",lista2)"
      ],
      "metadata": {
        "colab": {
          "base_uri": "https://localhost:8080/"
        },
        "id": "nCOT40I2F8gW",
        "outputId": "e346a3c7-80a1-45e3-fb9f-467271eedf40"
      },
      "execution_count": 15,
      "outputs": [
        {
          "output_type": "stream",
          "name": "stdout",
          "text": [
            "ingresa un número: 9\n",
            "ingresa un número: 5\n",
            "ingresa un número: 8\n",
            "ingresa un número: 4\n",
            "ingresa un número: 2\n",
            "ingresa un número: 3\n",
            "ingresa un número: 6\n",
            "los numeros ingresados son:  ['9', '5', '8', '4', '2', '3', '6']\n",
            "E invertidos son:  ['6', '3', '2', '4', '8', '5', '9']\n"
          ]
        }
      ]
    },
    {
      "cell_type": "markdown",
      "source": [
        "3.\tJuego de adivinar el número: Crea un programa que genere un número aleatorio entre 1 y 100, y luego le pida al usuario que adivine el número. El programa debe proporcionar pistas al usuario si el número es mayor o menor que el número objetivo, y seguir solicitando un nuevo intento hasta que el usuario adivine correctamente."
      ],
      "metadata": {
        "id": "-WBaJtD4F10t"
      }
    },
    {
      "cell_type": "code",
      "source": [
        "import random\n",
        "numeros=random.randint(1,100)\n",
        "intentos=0\n",
        "adivinados=False\n",
        "\n",
        "print(\"Adivina un número del 1 al 100\")\n",
        "\n",
        "while not adivinados:\n",
        "\n",
        "  try:\n",
        "    intento=int(input(\"¿Qué numero crees que sea?: \"))\n",
        "    intentos += 1\n",
        "    if intento < numeros:\n",
        "      print(\"El número es mayor. Intenta de nuevo.\")\n",
        "    elif intento > numeros:\n",
        "      print(\"El número es menor. Intenta de nuevo.\")\n",
        "    else:\n",
        "      print(f\"¡CORRECTO!\")\n",
        "      adivinado=True\n",
        "\n",
        "  except ValueError:\n",
        "    print(\"¿Ese es un número?... pon un número del 1 al 100 \")"
      ],
      "metadata": {
        "colab": {
          "base_uri": "https://localhost:8080/",
          "height": 617
        },
        "id": "kftAScVTF9Se",
        "outputId": "ddedc87d-98c4-4600-e595-3cc8f6cd13e0"
      },
      "execution_count": 17,
      "outputs": [
        {
          "output_type": "stream",
          "name": "stdout",
          "text": [
            "Adivina un número del 1 al 100\n",
            "¿Qué numero crees que sea?: 5\n",
            "El número es mayor. Intenta de nuevo.\n",
            "¿Qué numero crees que sea?: 50\n",
            "El número es menor. Intenta de nuevo.\n",
            "¿Qué numero crees que sea?: 13\n",
            "El número es mayor. Intenta de nuevo.\n",
            "¿Qué numero crees que sea?: 20\n",
            "El número es menor. Intenta de nuevo.\n",
            "¿Qué numero crees que sea?: 19\n",
            "¡CORRECTO!\n",
            "¿Qué numero crees que sea?: ñ\n",
            "¿Ese es u número?... pon un número del 1 al 100 \n"
          ]
        },
        {
          "output_type": "error",
          "ename": "KeyboardInterrupt",
          "evalue": "ignored",
          "traceback": [
            "\u001b[0;31m---------------------------------------------------------------------------\u001b[0m",
            "\u001b[0;31mKeyboardInterrupt\u001b[0m                         Traceback (most recent call last)",
            "\u001b[0;32m<ipython-input-17-17acbf8aedc4>\u001b[0m in \u001b[0;36m<cell line: 8>\u001b[0;34m()\u001b[0m\n\u001b[1;32m      9\u001b[0m \u001b[0;34m\u001b[0m\u001b[0m\n\u001b[1;32m     10\u001b[0m   \u001b[0;32mtry\u001b[0m\u001b[0;34m:\u001b[0m\u001b[0;34m\u001b[0m\u001b[0;34m\u001b[0m\u001b[0m\n\u001b[0;32m---> 11\u001b[0;31m     \u001b[0mintento\u001b[0m\u001b[0;34m=\u001b[0m\u001b[0mint\u001b[0m\u001b[0;34m(\u001b[0m\u001b[0minput\u001b[0m\u001b[0;34m(\u001b[0m\u001b[0;34m\"¿Qué numero crees que sea?: \"\u001b[0m\u001b[0;34m)\u001b[0m\u001b[0;34m)\u001b[0m\u001b[0;34m\u001b[0m\u001b[0;34m\u001b[0m\u001b[0m\n\u001b[0m\u001b[1;32m     12\u001b[0m     \u001b[0mintentos\u001b[0m \u001b[0;34m+=\u001b[0m \u001b[0;36m1\u001b[0m\u001b[0;34m\u001b[0m\u001b[0;34m\u001b[0m\u001b[0m\n\u001b[1;32m     13\u001b[0m     \u001b[0;32mif\u001b[0m \u001b[0mintento\u001b[0m \u001b[0;34m<\u001b[0m \u001b[0mnumeros\u001b[0m\u001b[0;34m:\u001b[0m\u001b[0;34m\u001b[0m\u001b[0;34m\u001b[0m\u001b[0m\n",
            "\u001b[0;32m/usr/local/lib/python3.10/dist-packages/ipykernel/kernelbase.py\u001b[0m in \u001b[0;36mraw_input\u001b[0;34m(self, prompt)\u001b[0m\n\u001b[1;32m    849\u001b[0m                 \u001b[0;34m\"raw_input was called, but this frontend does not support input requests.\"\u001b[0m\u001b[0;34m\u001b[0m\u001b[0;34m\u001b[0m\u001b[0m\n\u001b[1;32m    850\u001b[0m             )\n\u001b[0;32m--> 851\u001b[0;31m         return self._input_request(str(prompt),\n\u001b[0m\u001b[1;32m    852\u001b[0m             \u001b[0mself\u001b[0m\u001b[0;34m.\u001b[0m\u001b[0m_parent_ident\u001b[0m\u001b[0;34m,\u001b[0m\u001b[0;34m\u001b[0m\u001b[0;34m\u001b[0m\u001b[0m\n\u001b[1;32m    853\u001b[0m             \u001b[0mself\u001b[0m\u001b[0;34m.\u001b[0m\u001b[0m_parent_header\u001b[0m\u001b[0;34m,\u001b[0m\u001b[0;34m\u001b[0m\u001b[0;34m\u001b[0m\u001b[0m\n",
            "\u001b[0;32m/usr/local/lib/python3.10/dist-packages/ipykernel/kernelbase.py\u001b[0m in \u001b[0;36m_input_request\u001b[0;34m(self, prompt, ident, parent, password)\u001b[0m\n\u001b[1;32m    893\u001b[0m             \u001b[0;32mexcept\u001b[0m \u001b[0mKeyboardInterrupt\u001b[0m\u001b[0;34m:\u001b[0m\u001b[0;34m\u001b[0m\u001b[0;34m\u001b[0m\u001b[0m\n\u001b[1;32m    894\u001b[0m                 \u001b[0;31m# re-raise KeyboardInterrupt, to truncate traceback\u001b[0m\u001b[0;34m\u001b[0m\u001b[0;34m\u001b[0m\u001b[0m\n\u001b[0;32m--> 895\u001b[0;31m                 \u001b[0;32mraise\u001b[0m \u001b[0mKeyboardInterrupt\u001b[0m\u001b[0;34m(\u001b[0m\u001b[0;34m\"Interrupted by user\"\u001b[0m\u001b[0;34m)\u001b[0m \u001b[0;32mfrom\u001b[0m \u001b[0;32mNone\u001b[0m\u001b[0;34m\u001b[0m\u001b[0;34m\u001b[0m\u001b[0m\n\u001b[0m\u001b[1;32m    896\u001b[0m             \u001b[0;32mexcept\u001b[0m \u001b[0mException\u001b[0m \u001b[0;32mas\u001b[0m \u001b[0me\u001b[0m\u001b[0;34m:\u001b[0m\u001b[0;34m\u001b[0m\u001b[0;34m\u001b[0m\u001b[0m\n\u001b[1;32m    897\u001b[0m                 \u001b[0mself\u001b[0m\u001b[0;34m.\u001b[0m\u001b[0mlog\u001b[0m\u001b[0;34m.\u001b[0m\u001b[0mwarning\u001b[0m\u001b[0;34m(\u001b[0m\u001b[0;34m\"Invalid Message:\"\u001b[0m\u001b[0;34m,\u001b[0m \u001b[0mexc_info\u001b[0m\u001b[0;34m=\u001b[0m\u001b[0;32mTrue\u001b[0m\u001b[0;34m)\u001b[0m\u001b[0;34m\u001b[0m\u001b[0;34m\u001b[0m\u001b[0m\n",
            "\u001b[0;31mKeyboardInterrupt\u001b[0m: Interrupted by user"
          ]
        }
      ]
    },
    {
      "cell_type": "markdown",
      "source": [
        "4.\tEjercicio de cálculo de números primos en un rango dado: Escribe un programa que solicite al usuario un rango de números y muestre todos los números primos dentro de ese rango."
      ],
      "metadata": {
        "id": "5DVaxYAoF2L-"
      }
    },
    {
      "cell_type": "code",
      "source": [
        "def primo(numero):\n",
        "  if numero<=1:\n",
        "    return False\n",
        "  if numero<=3:\n",
        "    return True\n",
        "  if numero %2 == 0 or numero % 3 == 0:\n",
        "    return False\n",
        "  i = 5\n",
        "  while i*i <=numero:\n",
        "    if numero % i == 0 or numero % (i+2) == 0:\n",
        "      return False\n",
        "    i += 6\n",
        "  return True\n",
        "\n",
        "try:\n",
        "  lim_inf= int(input(\"Introduce el límite Inferior: \"))\n",
        "  lim_sup= int(input(\"Introduce el límite Superior: \"))\n",
        "\n",
        "  print(\"Los números primos dentro del rango son: \")\n",
        "  for numero in  range (lim_inf, lim_sup + 1):\n",
        "    if primo(numero):\n",
        "      print(numero)\n",
        "\n",
        "except ValueError:\n",
        "    print(\"No es válido\")"
      ],
      "metadata": {
        "colab": {
          "base_uri": "https://localhost:8080/"
        },
        "id": "KwGPSeNDF-Ze",
        "outputId": "79d073c0-3b98-4af8-bbe0-b9f853b8c356"
      },
      "execution_count": 18,
      "outputs": [
        {
          "output_type": "stream",
          "name": "stdout",
          "text": [
            "Introduce el límite Inferior: 10\n",
            "Introduce el límite Superior: 20\n",
            "Los números primos dentro del rango son: \n",
            "11\n",
            "13\n",
            "17\n",
            "19\n"
          ]
        }
      ]
    }
  ]
}
